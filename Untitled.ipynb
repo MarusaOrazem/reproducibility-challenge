{
 "cells": [
  {
   "cell_type": "code",
   "execution_count": null,
   "id": "c22789e9-a8b6-48e8-8fa0-a0bca69325b4",
   "metadata": {},
   "outputs": [],
   "source": []
  }
 ],
 "metadata": {
  "kernelspec": {
   "display_name": "repro",
   "language": "python",
   "name": "repro"
  },
  "language_info": {
   "codemirror_mode": {
    "name": "ipython",
    "version": 3
   },
   "file_extension": ".py",
   "mimetype": "text/x-python",
   "name": "python",
   "nbconvert_exporter": "python",
   "pygments_lexer": "ipython3",
   "version": "3.8.12"
  }
 },
 "nbformat": 4,
 "nbformat_minor": 5
}
