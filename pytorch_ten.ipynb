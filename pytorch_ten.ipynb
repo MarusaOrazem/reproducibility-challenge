{
 "cells": [
  {
   "cell_type": "markdown",
   "metadata": {},
   "source": [
    "# Tree Edit Networks - VID RUN THIS\n",
    "\n",
    "This notebook contains applications of graph edit networks (without edge actions) to trees."
   ]
  },
  {
   "cell_type": "code",
   "execution_count": 31,
   "outputs": [
    {
     "name": "stderr",
     "output_type": "stream",
     "text": [
      "  1%|          | 636/100000 [00:00<00:15, 6357.11it/s]"
     ]
    },
    {
     "name": "stdout",
     "output_type": "stream",
     "text": [
      "now running for 3\n"
     ]
    },
    {
     "name": "stderr",
     "output_type": "stream",
     "text": [
      "100%|██████████| 100000/100000 [00:19<00:00, 5239.96it/s]\n",
      "  0%|          | 352/100000 [00:00<00:28, 3485.30it/s]"
     ]
    },
    {
     "name": "stdout",
     "output_type": "stream",
     "text": [
      "now running for 4\n"
     ]
    },
    {
     "name": "stderr",
     "output_type": "stream",
     "text": [
      "100%|██████████| 100000/100000 [00:46<00:00, 2135.14it/s]\n",
      "  0%|          | 296/100000 [00:00<01:06, 1509.50it/s]"
     ]
    },
    {
     "name": "stdout",
     "output_type": "stream",
     "text": [
      "now running for 5\n"
     ]
    },
    {
     "name": "stderr",
     "output_type": "stream",
     "text": [
      "100%|██████████| 100000/100000 [01:48<00:00, 922.33it/s]\n",
      "  0%|          | 149/100000 [00:00<01:08, 1460.78it/s]"
     ]
    },
    {
     "name": "stdout",
     "output_type": "stream",
     "text": [
      "now running for 3\n"
     ]
    },
    {
     "name": "stderr",
     "output_type": "stream",
     "text": [
      "100%|██████████| 100000/100000 [02:24<00:00, 691.57it/s]\n",
      "  0%|          | 71/100000 [00:00<02:20, 709.99it/s]"
     ]
    },
    {
     "name": "stdout",
     "output_type": "stream",
     "text": [
      "now running for 4\n"
     ]
    },
    {
     "name": "stderr",
     "output_type": "stream",
     "text": [
      "100%|██████████| 100000/100000 [05:29<00:00, 303.42it/s]\n",
      "  0%|          | 31/100000 [00:00<05:45, 289.72it/s]"
     ]
    },
    {
     "name": "stdout",
     "output_type": "stream",
     "text": [
      "now running for 5\n"
     ]
    },
    {
     "name": "stderr",
     "output_type": "stream",
     "text": [
      "100%|██████████| 100000/100000 [06:39<00:00, 250.17it/s]\n"
     ]
    }
   ],
   "source": [
    "import boolean_formulae\n",
    "import peano_addition\n",
    "from tqdm import tqdm\n",
    "import pandas as pd\n",
    "import seaborn as sns\n",
    "lens = {3 : [], 4 : [], 5 : []}\n",
    "bools3 = []\n",
    "bools3_values = []\n",
    "for l in range(3,6):\n",
    "    print(f'now running for {l}')\n",
    "    for i in tqdm(range(100000)):\n",
    "        ts = boolean_formulae.generate_time_series(l)\n",
    "        ll = len(ts)\n",
    "        lens[l].append(ll )\n",
    "        if ll>= 2:\n",
    "            if ts[0] not in bools3:\n",
    "                bools3.append(ts[0])\n",
    "                bools3_values.append(ts)\n",
    "\n",
    "df = pd.DataFrame(lens)\n",
    "melted = pd.melt(df)\n",
    "lens = {3 : [], 4 : [], 5 : []}\n",
    "\n",
    "melted['kind'] = ['boolean'] * len(melted['variable'])\n",
    "pean3 = []\n",
    "pean3_values = []\n",
    "for l in range(3,6):\n",
    "    print(f'now running for {l}')\n",
    "    for i in tqdm(range(100000)):\n",
    "        ts = peano_addition.generate_time_series(l)\n",
    "        ll = len(ts)\n",
    "        lens[l].append(ll )\n",
    "        if ll>= 2:\n",
    "            if ts[0] not in pean3:\n",
    "                pean3.append(ts[0])\n",
    "                pean3_values.append(ts)"
   ],
   "metadata": {
    "collapsed": false,
    "pycharm": {
     "name": "#%%\n"
    }
   }
  },
  {
   "cell_type": "code",
   "execution_count": 33,
   "outputs": [],
   "source": [
    "\n",
    "df = pd.DataFrame(lens)\n",
    "melted2 = pd.melt(df)\n",
    "melted2['kind'] = ['peano'] * len(melted2['variable'])\n",
    "\n",
    "melted3 = pd.concat([melted, melted2])\n",
    "melted3.to_csv('penosBooleans.csv', sep=',')"
   ],
   "metadata": {
    "collapsed": false,
    "pycharm": {
     "name": "#%%\n"
    }
   }
  },
  {
   "cell_type": "code",
   "execution_count": 34,
   "outputs": [
    {
     "name": "stdout",
     "output_type": "stream",
     "text": [
      "We were able to find 77351 Peano graphs, which is 25.78% of the sampled series\n",
      "We were able to find 38094 boolaen graphs, which is 12.70% of the sampled series\n"
     ]
    }
   ],
   "source": [
    "print(f'We were able to find {len(pean3)} Peano graphs, which is {len(pean3)*100/300000 :.2f}% of the sampled series')\n",
    "print(f'We were able to find {len(bools3)} boolaen graphs, which is {len(bools3)*100/300000 :.2f}% of the sampled series')"
   ],
   "metadata": {
    "collapsed": false,
    "pycharm": {
     "name": "#%%\n"
    }
   }
  },
  {
   "cell_type": "code",
   "execution_count": 36,
   "outputs": [],
   "source": [
    "import pickle\n",
    "with open('results_temp/bool_timseries.pkl', 'wb') as f:\n",
    "    pickle.dump(bools3_values, f)\n",
    "\n",
    "with open('results_temp/peano_timseries.pkl', 'wb') as f:\n",
    "    pickle.dump(pean3_values, f)\n",
    "\n"
   ],
   "metadata": {
    "collapsed": false,
    "pycharm": {
     "name": "#%%\n"
    }
   }
  },
  {
   "cell_type": "markdown",
   "source": [
    "MARUŠA RUN THIS"
   ],
   "metadata": {
    "collapsed": false,
    "pycharm": {
     "name": "#%% md\n"
    }
   }
  },
  {
   "cell_type": "code",
   "execution_count": 38,
   "outputs": [
    {
     "name": "stdout",
     "output_type": "stream",
     "text": [
      "38094\n"
     ]
    }
   ],
   "source": [
    "with open('results_temp/bool_timseries.pkl', 'rb') as f:\n",
    "    ALL_BOOLS = pickle.load(f)\n",
    "\n",
    "with open('results_temp/peano_timseries.pkl', 'rb') as f:\n",
    "    ALL_PEANOS = pickle.load(f)\n",
    "\n",
    "print(len(ALL_BOOLS))"
   ],
   "metadata": {
    "collapsed": false,
    "pycharm": {
     "name": "#%%\n"
    }
   }
  },
  {
   "cell_type": "markdown",
   "metadata": {},
   "source": [
    "## Task 1: Boolean Formula Simplification\n",
    "\n",
    "We generate a random Boolean formula over the variables $x$ and $y$ with at most 3 binary operators and then apply simplification rules until none apply anymore. The time series is the series of iteratively simpler formulae."
   ]
  },
  {
   "cell_type": "code",
   "execution_count": 4,
   "metadata": {},
   "outputs": [],
   "source": [
    "# set up the model\n",
    "import torch\n",
    "import numpy as np\n",
    "import pytorch_tree_edit_networks as ten\n",
    "\n",
    "# the number of experimental repititions\n",
    "R = 5\n",
    "# the number of test trees\n",
    "N_test = 10\n",
    "\n",
    "# training hyperparameters\n",
    "max_epochs     = 12\n",
    "learning_rate  = 1E-3\n",
    "weight_decay   = 1E-5\n",
    "loss_threshold = 1E-3\n",
    "\n",
    "# model hyperparameters\n",
    "num_layers = 2\n",
    "dim_hid = 64\n",
    "skip_connections = False\n",
    "nonlin = torch.nn.ReLU()\n",
    "max_degree = 4\n",
    "\n",
    "accs = np.zeros(R)\n",
    "learning_curves = []"
   ]
  },
  {
   "cell_type": "code",
   "execution_count": 6,
   "metadata": {},
   "outputs": [
    {
     "name": "stdout",
     "output_type": "stream",
     "text": [
      "--- repeat 1 of 5 ---\n",
      "loss avg after 10 epochs: 16.3223\n",
      "stopped training\n",
      "at the top of while\n",
      "at the top of while\n",
      "at the top of while\n",
      "at the top of while\n",
      "at the top of while\n",
      "at the top of while\n",
      "at the top of while\n",
      "at the top of while\n",
      "at the top of while\n",
      "at the top of while\n",
      "accuracy: nan\n",
      "--- repeat 2 of 5 ---\n"
     ]
    },
    {
     "name": "stderr",
     "output_type": "stream",
     "text": [
      "<ipython-input-6-7af074ae8870>:88: RuntimeWarning: invalid value encountered in double_scalars\n",
      "  accs[r] /= T\n"
     ]
    },
    {
     "name": "stdout",
     "output_type": "stream",
     "text": [
      "loss avg after 10 epochs: 20.52\n",
      "stopped training\n",
      "at the top of while\n",
      "at the top of while\n",
      "at the top of while\n",
      "at the top of while\n",
      "at the top of while\n",
      "at the top of while\n",
      "at the top of while\n",
      "at the top of while\n",
      "at the top of while\n",
      "at the top of while\n",
      "accuracy: nan\n",
      "--- repeat 3 of 5 ---\n",
      "loss avg after 10 epochs: 18.6273\n",
      "stopped training\n",
      "at the top of while\n",
      "at the top of while\n",
      "at the top of while\n",
      "at the top of while\n",
      "at the top of while\n",
      "at the top of while\n",
      "at the top of while\n",
      "at the top of while\n",
      "at the top of while\n",
      "at the top of while\n",
      "accuracy: nan\n",
      "--- repeat 4 of 5 ---\n",
      "loss avg after 10 epochs: 16.7399\n",
      "stopped training\n",
      "at the top of while\n",
      "at the top of while\n",
      "at the top of while\n",
      "at the top of while\n",
      "at the top of while\n",
      "at the top of while\n",
      "at the top of while\n",
      "at the top of while\n",
      "at the top of while\n",
      "at the top of while\n",
      "accuracy: nan\n",
      "--- repeat 5 of 5 ---\n"
     ]
    },
    {
     "ename": "KeyboardInterrupt",
     "evalue": "",
     "output_type": "error",
     "traceback": [
      "\u001B[1;31m---------------------------------------------------------------------------\u001B[0m",
      "\u001B[1;31mKeyboardInterrupt\u001B[0m                         Traceback (most recent call last)",
      "\u001B[1;32m<ipython-input-6-7af074ae8870>\u001B[0m in \u001B[0;36m<module>\u001B[1;34m\u001B[0m\n\u001B[0;32m     21\u001B[0m         \u001B[1;31m# sample a nontrivial time series\u001B[0m\u001B[1;33m\u001B[0m\u001B[1;33m\u001B[0m\u001B[1;33m\u001B[0m\u001B[0m\n\u001B[0;32m     22\u001B[0m         \u001B[1;32mif\u001B[0m \u001B[0munique\u001B[0m\u001B[1;33m:\u001B[0m\u001B[1;33m\u001B[0m\u001B[1;33m\u001B[0m\u001B[0m\n\u001B[1;32m---> 23\u001B[1;33m             \u001B[0mtime_series\u001B[0m \u001B[1;33m=\u001B[0m \u001B[0mboolean_formulae\u001B[0m\u001B[1;33m.\u001B[0m\u001B[0mgenerate_unique_time_series\u001B[0m\u001B[1;33m(\u001B[0m\u001B[0mtest_set\u001B[0m\u001B[1;33m)\u001B[0m\u001B[1;33m\u001B[0m\u001B[1;33m\u001B[0m\u001B[0m\n\u001B[0m\u001B[0;32m     24\u001B[0m         \u001B[1;32melse\u001B[0m\u001B[1;33m:\u001B[0m\u001B[1;33m\u001B[0m\u001B[1;33m\u001B[0m\u001B[0m\n\u001B[0;32m     25\u001B[0m             \u001B[0mtime_series\u001B[0m \u001B[1;33m=\u001B[0m \u001B[0mboolean_formulae\u001B[0m\u001B[1;33m.\u001B[0m\u001B[0mgenerate_time_series\u001B[0m\u001B[1;33m(\u001B[0m\u001B[1;33m)\u001B[0m\u001B[1;33m\u001B[0m\u001B[1;33m\u001B[0m\u001B[0m\n",
      "\u001B[1;32mX:\\Faks\\DS\\sem4\\Reproducibility\\code\\boolean_formulae.py\u001B[0m in \u001B[0;36mgenerate_unique_time_series\u001B[1;34m(unique_As, generator)\u001B[0m\n\u001B[0;32m    656\u001B[0m     \u001B[0mtrain_set\u001B[0m \u001B[1;33m=\u001B[0m \u001B[1;33m[\u001B[0m\u001B[1;33m]\u001B[0m\u001B[1;33m\u001B[0m\u001B[1;33m\u001B[0m\u001B[0m\n\u001B[0;32m    657\u001B[0m     \u001B[1;32mwhile\u001B[0m \u001B[0mlen\u001B[0m\u001B[1;33m(\u001B[0m\u001B[0mtrain_set\u001B[0m\u001B[1;33m)\u001B[0m \u001B[1;33m<\u001B[0m \u001B[1;36m1\u001B[0m\u001B[1;33m:\u001B[0m\u001B[1;33m\u001B[0m\u001B[1;33m\u001B[0m\u001B[0m\n\u001B[1;32m--> 658\u001B[1;33m         \u001B[0mtime_series\u001B[0m \u001B[1;33m=\u001B[0m \u001B[0mgenerator\u001B[0m\u001B[1;33m(\u001B[0m\u001B[1;33m)\u001B[0m\u001B[1;33m\u001B[0m\u001B[1;33m\u001B[0m\u001B[0m\n\u001B[0m\u001B[0;32m    659\u001B[0m         \u001B[1;31m# i counter for the graphs, so we will know which series to add.\u001B[0m\u001B[1;33m\u001B[0m\u001B[1;33m\u001B[0m\u001B[1;33m\u001B[0m\u001B[0m\n\u001B[0;32m    660\u001B[0m         \u001B[0mAs\u001B[0m \u001B[1;33m=\u001B[0m \u001B[1;33m[\u001B[0m\u001B[0ma\u001B[0m \u001B[1;32mfor\u001B[0m \u001B[0mn\u001B[0m\u001B[1;33m,\u001B[0m\u001B[0ma\u001B[0m \u001B[1;32min\u001B[0m \u001B[0mtime_series\u001B[0m\u001B[1;33m]\u001B[0m\u001B[1;33m\u001B[0m\u001B[1;33m\u001B[0m\u001B[0m\n",
      "\u001B[1;32mX:\\Faks\\DS\\sem4\\Reproducibility\\code\\boolean_formulae.py\u001B[0m in \u001B[0;36mgenerate_time_series\u001B[1;34m(max_op)\u001B[0m\n\u001B[0;32m     73\u001B[0m     \"\"\"\n\u001B[0;32m     74\u001B[0m     \u001B[1;31m# generate a tree first\u001B[0m\u001B[1;33m\u001B[0m\u001B[1;33m\u001B[0m\u001B[1;33m\u001B[0m\u001B[0m\n\u001B[1;32m---> 75\u001B[1;33m     \u001B[0mnodes\u001B[0m\u001B[1;33m,\u001B[0m \u001B[0madj\u001B[0m \u001B[1;33m=\u001B[0m \u001B[0m_generate_tree\u001B[0m\u001B[1;33m(\u001B[0m\u001B[0mmax_op\u001B[0m\u001B[1;33m)\u001B[0m\u001B[1;33m\u001B[0m\u001B[1;33m\u001B[0m\u001B[0m\n\u001B[0m\u001B[0;32m     76\u001B[0m     \u001B[1;31m# and simplify it\u001B[0m\u001B[1;33m\u001B[0m\u001B[1;33m\u001B[0m\u001B[1;33m\u001B[0m\u001B[0m\n\u001B[0;32m     77\u001B[0m     \u001B[1;32mtry\u001B[0m\u001B[1;33m:\u001B[0m\u001B[1;33m\u001B[0m\u001B[1;33m\u001B[0m\u001B[0m\n",
      "\u001B[1;32mX:\\Faks\\DS\\sem4\\Reproducibility\\code\\boolean_formulae.py\u001B[0m in \u001B[0;36m_generate_tree\u001B[1;34m(max_op)\u001B[0m\n\u001B[0;32m    122\u001B[0m         \u001B[1;31m# dependent on the remaining numbr of operations\u001B[0m\u001B[1;33m\u001B[0m\u001B[1;33m\u001B[0m\u001B[1;33m\u001B[0m\u001B[0m\n\u001B[0;32m    123\u001B[0m         \u001B[1;32mif\u001B[0m \u001B[0mmax_op\u001B[0m \u001B[1;33m>\u001B[0m \u001B[1;36m0\u001B[0m\u001B[1;33m:\u001B[0m\u001B[1;33m\u001B[0m\u001B[1;33m\u001B[0m\u001B[0m\n\u001B[1;32m--> 124\u001B[1;33m             \u001B[0mr\u001B[0m \u001B[1;33m=\u001B[0m \u001B[0mnp\u001B[0m\u001B[1;33m.\u001B[0m\u001B[0mrandom\u001B[0m\u001B[1;33m.\u001B[0m\u001B[0mchoice\u001B[0m\u001B[1;33m(\u001B[0m\u001B[0mlen\u001B[0m\u001B[1;33m(\u001B[0m\u001B[0mp_op\u001B[0m\u001B[1;33m)\u001B[0m\u001B[1;33m,\u001B[0m \u001B[1;36m1\u001B[0m\u001B[1;33m,\u001B[0m \u001B[0mp\u001B[0m \u001B[1;33m=\u001B[0m \u001B[0mp_op\u001B[0m\u001B[1;33m)\u001B[0m\u001B[1;33m\u001B[0m\u001B[1;33m\u001B[0m\u001B[0m\n\u001B[0m\u001B[0;32m    125\u001B[0m         \u001B[1;32melse\u001B[0m\u001B[1;33m:\u001B[0m\u001B[1;33m\u001B[0m\u001B[1;33m\u001B[0m\u001B[0m\n\u001B[0;32m    126\u001B[0m             \u001B[0mr\u001B[0m \u001B[1;33m=\u001B[0m \u001B[0mnp\u001B[0m\u001B[1;33m.\u001B[0m\u001B[0mrandom\u001B[0m\u001B[1;33m.\u001B[0m\u001B[0mchoice\u001B[0m\u001B[1;33m(\u001B[0m\u001B[0mlen\u001B[0m\u001B[1;33m(\u001B[0m\u001B[0mp_non_op\u001B[0m\u001B[1;33m)\u001B[0m\u001B[1;33m,\u001B[0m \u001B[1;36m1\u001B[0m\u001B[1;33m,\u001B[0m \u001B[0mp\u001B[0m \u001B[1;33m=\u001B[0m \u001B[0mp_non_op\u001B[0m\u001B[1;33m)\u001B[0m\u001B[1;33m\u001B[0m\u001B[1;33m\u001B[0m\u001B[0m\n",
      "\u001B[1;31mKeyboardInterrupt\u001B[0m: "
     ]
    }
   ],
   "source": [
    "# learn\n",
    "import edist.tree_utils as tu\n",
    "import boolean_formulae\n",
    "\n",
    "unique = True\n",
    "\n",
    "for r in range(R):\n",
    "    print('--- repeat %d of %d ---' % (r+1, R))\n",
    "    test_set, unique_As = boolean_formulae.create_test_set(N_test)\n",
    "    # instantiate network and optimizer\n",
    "    net = ten.TEN(num_layers = num_layers, alphabet = boolean_formulae.alphabet,\n",
    "                  dim_hid = dim_hid, skip_connections = skip_connections, nonlin = nonlin,\n",
    "                  dim_in_extra = max_degree + 1)\n",
    "    optimizer = torch.optim.Adam(net.parameters(), lr=learning_rate, weight_decay=weight_decay)\n",
    "    # start training\n",
    "    loss_avg = None\n",
    "    learning_curve = []\n",
    "    epochs = 0\n",
    "    while epochs < max_epochs:\n",
    "        optimizer.zero_grad()\n",
    "        # sample a nontrivial time series\n",
    "        if unique:\n",
    "            time_series = boolean_formulae.generate_unique_time_series(test_set)\n",
    "        else:\n",
    "            time_series = boolean_formulae.generate_time_series()\n",
    "        if len(time_series) < 2:\n",
    "            continue\n",
    "        # compute the prediction loss\n",
    "        loss = boolean_formulae.compute_loss(net, time_series)\n",
    "        # compute the gradient\n",
    "        loss.backward()\n",
    "        # perform an optimizer step\n",
    "        optimizer.step()\n",
    "        # compute a new moving average over the loss\n",
    "        if loss_avg is None:\n",
    "            loss_avg = loss.item()\n",
    "        else:\n",
    "            loss_avg = loss_avg * 0.9 + 0.1 * loss.item()\n",
    "        learning_curve.append(loss.item())\n",
    "        if((epochs+1) % 10 == 0):\n",
    "            #print('loss avg after %d epochs: %g' % (epochs+1, loss_avg))\n",
    "        epochs += 1\n",
    "        if loss_avg < loss_threshold:\n",
    "            break\n",
    "\n",
    "    #print('stopped training')\n",
    "    #learning_curves.append(learning_curve)\n",
    "    # after training is completed, evaluate\n",
    "    j = 0\n",
    "    T = 0\n",
    "    while j < N_test:\n",
    "        #print('at the top of while')\n",
    "        # sample a random time series\n",
    "        if unique:\n",
    "            time_series = test_set[j]\n",
    "        else:\n",
    "            time_series = boolean_formulae.generate_time_series()\n",
    "        if len(time_series) < 2:\n",
    "            continue\n",
    "        # iterate over the time series\n",
    "        #print(len(time_series))\n",
    "        for t in range(len(time_series)-1):\n",
    "            #print(t)\n",
    "            # perform the prediction\n",
    "            nodes, adj = time_series[t]\n",
    "            try:\n",
    "                _, nodes_actual, adj_actual = boolean_formulae.predict_step(net, nodes, adj)\n",
    "                nodes_expected, adj_expected = time_series[t+1]\n",
    "                if nodes_actual == nodes_expected and adj_actual == adj_expected:\n",
    "                    accs[r] += 1\n",
    "                else:\n",
    "                    #print('expected tree %s but was actually %s' % (tu.tree_to_string(nodes_expected, adj_expected), tu.tree_to_string(nodes_actual, adj_actual)))\n",
    "            except Exception as ex:\n",
    "                try:\n",
    "                    #print('handling exception 1')\n",
    "                    boolean_formulae.predict_step(net, nodes, adj, verbose = True)\n",
    "                except Exception as ex2:\n",
    "                    #print('handling exception 1')\n",
    "                    pass\n",
    "                #print('Exception for input tree %s and network output %s\\nexception was %s' % (tu.tree_to_string(nodes, adj, indent = True, with_indices = True), deltaX, str(ex)))\n",
    "\n",
    "\n",
    "        print('managed to exit!')\n",
    "        T += len(time_series)-1\n",
    "        j += 1\n",
    "        print('at the bottom of while')\n",
    "    accs[r] /= T\n",
    "    print('accuracy: %g' % accs[r])"
   ]
  },
  {
   "cell_type": "code",
   "execution_count": null,
   "metadata": {},
   "outputs": [],
   "source": [
    "# print results\n",
    "print('Accuracy: %g +- %g' % (np.mean(accs), np.std(accs)))\n",
    "num_epochs = np.array(list(map(len, learning_curves)))\n",
    "print('Epochs: %g +- %g' % (np.mean(num_epochs), np.std(num_epochs)))"
   ]
  },
  {
   "cell_type": "code",
   "execution_count": null,
   "metadata": {},
   "outputs": [],
   "source": [
    "# visualize learning curves\n",
    "import matplotlib.pyplot as plt\n",
    "smoothing_steps = 10\n",
    "for r in range(R):\n",
    "    # compute a moving average before visualization\n",
    "    acum = np.cumsum(learning_curves[r])\n",
    "    plt.semilogy((acum[smoothing_steps:] - acum[:-smoothing_steps])/smoothing_steps)\n",
    "plt.show()"
   ]
  },
  {
   "cell_type": "markdown",
   "metadata": {},
   "source": [
    "## Task 2: Addition\n",
    "\n",
    "We generate an addition formula of at most four numbers in the range 1-3 and then use the Peano addition axiom to compute the addition. In particular, the following four rules apply.\n",
    "\n",
    "1. +(m, 0) for any m can be replaced with m.\n",
    "2. +(m, succ(n)) can be replaced with succ(+(m, n)).\n",
    "3. +(m, n) for n in the range 0-9 can be replaced with +(m, succ(n-1)) where -1 refers to the numeric subtraction of 1.\n",
    "4. succ(n) for n in the range 0-9 can be replaced with n+1 (mod 10 because we don't permit two-digit numbers).\n",
    "\n",
    "A time series arises by applying to a current tree every rule that is applicable until a tree results which is only a single number."
   ]
  },
  {
   "cell_type": "code",
   "execution_count": 6,
   "metadata": {},
   "outputs": [],
   "source": [
    "# set up the model\n",
    "import torch\n",
    "import numpy as np\n",
    "import pytorch_tree_edit_networks as ten\n",
    "\n",
    "# the number of experimental repititions\n",
    "R = 5\n",
    "# the number of test trees\n",
    "N_test = 10\n",
    "\n",
    "# training hyperparameters\n",
    "max_epochs     = 30000\n",
    "learning_rate  = 1E-3\n",
    "weight_decay   = 1E-5\n",
    "loss_threshold = 1E-3\n",
    "\n",
    "# model hyperparameters\n",
    "# a single layer with sufficient neurons should suffice here, because we only need to\n",
    "# check immediate parents and children to check whether a rule applies\n",
    "num_layers = 2\n",
    "dim_hid = 64\n",
    "skip_connections = False\n",
    "nonlin = torch.nn.ReLU()\n",
    "max_degree = 2\n",
    "\n",
    "accs = np.zeros(R)\n",
    "learning_curves = []"
   ]
  },
  {
   "cell_type": "code",
   "execution_count": 8,
   "metadata": {},
   "outputs": [
    {
     "name": "stdout",
     "output_type": "stream",
     "text": [
      "--- repeat 1 of 5 ---\n"
     ]
    },
    {
     "ename": "KeyboardInterrupt",
     "evalue": "",
     "output_type": "error",
     "traceback": [
      "\u001B[1;31m---------------------------------------------------------------------------\u001B[0m",
      "\u001B[1;31mKeyboardInterrupt\u001B[0m                         Traceback (most recent call last)",
      "\u001B[1;32m<ipython-input-8-e58ae2f24635>\u001B[0m in \u001B[0;36m<module>\u001B[1;34m\u001B[0m\n\u001B[0;32m     20\u001B[0m         \u001B[1;31m# sample a nontrivial time series\u001B[0m\u001B[1;33m\u001B[0m\u001B[1;33m\u001B[0m\u001B[1;33m\u001B[0m\u001B[0m\n\u001B[0;32m     21\u001B[0m         \u001B[1;32mif\u001B[0m \u001B[0munique\u001B[0m\u001B[1;33m:\u001B[0m\u001B[1;33m\u001B[0m\u001B[1;33m\u001B[0m\u001B[0m\n\u001B[1;32m---> 22\u001B[1;33m             \u001B[0mtime_series\u001B[0m \u001B[1;33m=\u001B[0m \u001B[0mpeano_addition\u001B[0m\u001B[1;33m.\u001B[0m\u001B[0mgenerate_unique_time_series\u001B[0m\u001B[1;33m(\u001B[0m\u001B[0mtest_set\u001B[0m\u001B[1;33m)\u001B[0m\u001B[1;33m\u001B[0m\u001B[1;33m\u001B[0m\u001B[0m\n\u001B[0m\u001B[0;32m     23\u001B[0m         \u001B[1;32melse\u001B[0m\u001B[1;33m:\u001B[0m\u001B[1;33m\u001B[0m\u001B[1;33m\u001B[0m\u001B[0m\n\u001B[0;32m     24\u001B[0m             \u001B[0mtime_series\u001B[0m \u001B[1;33m=\u001B[0m \u001B[0mpeano_addition\u001B[0m\u001B[1;33m.\u001B[0m\u001B[0mgenerate_time_series\u001B[0m\u001B[1;33m(\u001B[0m\u001B[1;33m)\u001B[0m\u001B[1;33m\u001B[0m\u001B[1;33m\u001B[0m\u001B[0m\n",
      "\u001B[1;32mX:\\Faks\\DS\\sem4\\Reproducibility\\code\\peano_addition.py\u001B[0m in \u001B[0;36mgenerate_unique_time_series\u001B[1;34m(unique_As, generator)\u001B[0m\n\u001B[0;32m    602\u001B[0m     \u001B[0mtrain_set\u001B[0m \u001B[1;33m=\u001B[0m \u001B[1;33m[\u001B[0m\u001B[1;33m]\u001B[0m\u001B[1;33m\u001B[0m\u001B[1;33m\u001B[0m\u001B[0m\n\u001B[0;32m    603\u001B[0m     \u001B[1;32mwhile\u001B[0m \u001B[0mlen\u001B[0m\u001B[1;33m(\u001B[0m\u001B[0mtrain_set\u001B[0m\u001B[1;33m)\u001B[0m \u001B[1;33m<\u001B[0m \u001B[1;36m1\u001B[0m\u001B[1;33m:\u001B[0m\u001B[1;33m\u001B[0m\u001B[1;33m\u001B[0m\u001B[0m\n\u001B[1;32m--> 604\u001B[1;33m         \u001B[0mtime_series\u001B[0m \u001B[1;33m=\u001B[0m \u001B[0mgenerator\u001B[0m\u001B[1;33m(\u001B[0m\u001B[1;33m)\u001B[0m\u001B[1;33m\u001B[0m\u001B[1;33m\u001B[0m\u001B[0m\n\u001B[0m\u001B[0;32m    605\u001B[0m         \u001B[1;31m# i counter for the graphs, so we will know which series to add.\u001B[0m\u001B[1;33m\u001B[0m\u001B[1;33m\u001B[0m\u001B[1;33m\u001B[0m\u001B[0m\n\u001B[0;32m    606\u001B[0m         \u001B[0mAs\u001B[0m \u001B[1;33m=\u001B[0m \u001B[1;33m[\u001B[0m\u001B[0ma\u001B[0m \u001B[1;32mfor\u001B[0m \u001B[0mn\u001B[0m\u001B[1;33m,\u001B[0m\u001B[0ma\u001B[0m \u001B[1;32min\u001B[0m \u001B[0mtime_series\u001B[0m\u001B[1;33m]\u001B[0m\u001B[1;33m\u001B[0m\u001B[1;33m\u001B[0m\u001B[0m\n",
      "\u001B[1;32mX:\\Faks\\DS\\sem4\\Reproducibility\\code\\peano_addition.py\u001B[0m in \u001B[0;36mgenerate_time_series\u001B[1;34m(max_additions, max_input)\u001B[0m\n\u001B[0;32m     76\u001B[0m     \"\"\"\n\u001B[0;32m     77\u001B[0m     \u001B[1;31m# generate a tree first\u001B[0m\u001B[1;33m\u001B[0m\u001B[1;33m\u001B[0m\u001B[1;33m\u001B[0m\u001B[0m\n\u001B[1;32m---> 78\u001B[1;33m     \u001B[0mnodes\u001B[0m\u001B[1;33m,\u001B[0m \u001B[0madj\u001B[0m \u001B[1;33m=\u001B[0m \u001B[0m_generate_tree\u001B[0m\u001B[1;33m(\u001B[0m\u001B[0mmax_additions\u001B[0m\u001B[1;33m,\u001B[0m \u001B[0mmax_input\u001B[0m\u001B[1;33m)\u001B[0m\u001B[1;33m\u001B[0m\u001B[1;33m\u001B[0m\u001B[0m\n\u001B[0m\u001B[0;32m     79\u001B[0m     \u001B[1;31m# and simplify it\u001B[0m\u001B[1;33m\u001B[0m\u001B[1;33m\u001B[0m\u001B[1;33m\u001B[0m\u001B[0m\n\u001B[0;32m     80\u001B[0m     \u001B[1;32mtry\u001B[0m\u001B[1;33m:\u001B[0m\u001B[1;33m\u001B[0m\u001B[1;33m\u001B[0m\u001B[0m\n",
      "\u001B[1;32mX:\\Faks\\DS\\sem4\\Reproducibility\\code\\peano_addition.py\u001B[0m in \u001B[0;36m_generate_tree\u001B[1;34m(max_additions, max_input)\u001B[0m\n\u001B[0;32m    139\u001B[0m         \u001B[1;31m# node is a 'not'\u001B[0m\u001B[1;33m\u001B[0m\u001B[1;33m\u001B[0m\u001B[1;33m\u001B[0m\u001B[0m\n\u001B[0;32m    140\u001B[0m         \u001B[1;32mif\u001B[0m \u001B[0mmax_additions\u001B[0m \u001B[1;33m>\u001B[0m \u001B[1;36m0\u001B[0m\u001B[1;33m:\u001B[0m\u001B[1;33m\u001B[0m\u001B[1;33m\u001B[0m\u001B[0m\n\u001B[1;32m--> 141\u001B[1;33m             \u001B[0mr\u001B[0m \u001B[1;33m=\u001B[0m \u001B[0mnp\u001B[0m\u001B[1;33m.\u001B[0m\u001B[0mrandom\u001B[0m\u001B[1;33m.\u001B[0m\u001B[0mchoice\u001B[0m\u001B[1;33m(\u001B[0m\u001B[0mlen\u001B[0m\u001B[1;33m(\u001B[0m\u001B[0mprob_plus\u001B[0m\u001B[1;33m)\u001B[0m\u001B[1;33m,\u001B[0m \u001B[1;36m1\u001B[0m\u001B[1;33m,\u001B[0m \u001B[0mp\u001B[0m \u001B[1;33m=\u001B[0m \u001B[0mprob_plus\u001B[0m\u001B[1;33m)\u001B[0m\u001B[1;33m\u001B[0m\u001B[1;33m\u001B[0m\u001B[0m\n\u001B[0m\u001B[0;32m    142\u001B[0m         \u001B[1;32melse\u001B[0m\u001B[1;33m:\u001B[0m\u001B[1;33m\u001B[0m\u001B[1;33m\u001B[0m\u001B[0m\n\u001B[0;32m    143\u001B[0m             \u001B[0mr\u001B[0m \u001B[1;33m=\u001B[0m \u001B[0mnp\u001B[0m\u001B[1;33m.\u001B[0m\u001B[0mrandom\u001B[0m\u001B[1;33m.\u001B[0m\u001B[0mchoice\u001B[0m\u001B[1;33m(\u001B[0m\u001B[0mlen\u001B[0m\u001B[1;33m(\u001B[0m\u001B[0mprob_non_plus\u001B[0m\u001B[1;33m)\u001B[0m\u001B[1;33m,\u001B[0m \u001B[1;36m1\u001B[0m\u001B[1;33m,\u001B[0m \u001B[0mp\u001B[0m \u001B[1;33m=\u001B[0m \u001B[0mprob_non_plus\u001B[0m\u001B[1;33m)\u001B[0m\u001B[1;33m\u001B[0m\u001B[1;33m\u001B[0m\u001B[0m\n",
      "\u001B[1;31mKeyboardInterrupt\u001B[0m: "
     ]
    }
   ],
   "source": [
    "# learn\n",
    "unique = True\n",
    "import edist.tree_utils as tu\n",
    "import peano_addition\n",
    "\n",
    "for r in range(R):\n",
    "    print('--- repeat %d of %d ---' % (r+1, R))\n",
    "    test_set, unique_As = peano_addition.create_test_set(N_test)\n",
    "    # instantiate network and optimizer\n",
    "    net = ten.TEN(num_layers = num_layers, alphabet = peano_addition.alphabet,\n",
    "                  dim_hid = dim_hid, skip_connections = skip_connections, nonlin = nonlin,\n",
    "                  dim_in_extra = max_degree + 1)\n",
    "    optimizer = torch.optim.Adam(net.parameters(), lr=learning_rate, weight_decay=weight_decay)\n",
    "    # start training\n",
    "    loss_avg = None\n",
    "    learning_curve = []\n",
    "    epochs = 0\n",
    "    while epochs < max_epochs:\n",
    "        optimizer.zero_grad()\n",
    "        # sample a nontrivial time series\n",
    "        if unique:\n",
    "            time_series = peano_addition.generate_unique_time_series(test_set)\n",
    "        else:\n",
    "            time_series = peano_addition.generate_time_series()\n",
    "        if len(time_series) < 2:\n",
    "            continue\n",
    "        # compute the prediction loss\n",
    "        loss = peano_addition.compute_loss(net, time_series)\n",
    "        # compute the gradient\n",
    "        loss.backward()\n",
    "        # perform an optimizer step\n",
    "        optimizer.step()\n",
    "        # compute a new moving average over the loss\n",
    "        if loss_avg is None:\n",
    "            loss_avg = loss.item()\n",
    "        else:\n",
    "            loss_avg = loss_avg * 0.9 + 0.1 * loss.item()\n",
    "        learning_curve.append(loss.item())\n",
    "        if((epochs+1) % 100 == 0):\n",
    "            print('loss avg after %d epochs: %g' % (epochs+1, loss_avg))\n",
    "        epochs += 1\n",
    "        if loss_avg < loss_threshold:\n",
    "            break\n",
    "    learning_curves.append(learning_curve)\n",
    "    # after training is completed, evaluate\n",
    "    j = 0\n",
    "    T = 0\n",
    "    while j < N_test:\n",
    "        # sample a random time series\n",
    "        if unique:\n",
    "            time_series = test_set[j]\n",
    "        else:\n",
    "            time_series = peano_addition.generate_time_series()\n",
    "        if len(time_series) < 2:\n",
    "            continue\n",
    "        # iterate over the time series\n",
    "        for t in range(len(time_series)-1):\n",
    "            # perform the prediction\n",
    "            nodes, adj = time_series[t]\n",
    "            try:\n",
    "                _, nodes_actual, adj_actual = peano_addition.predict_step(net, nodes, adj)\n",
    "                nodes_expected, adj_expected = time_series[t+1]\n",
    "                if nodes_actual == nodes_expected and adj_actual == adj_expected:\n",
    "                    accs[r] += 1\n",
    "                else:\n",
    "                    print('expected tree %s but was actually %s' % (tu.tree_to_string(nodes_expected, adj_expected), tu.tree_to_string(nodes_actual, adj_actual)))\n",
    "            except Exception as ex:\n",
    "                try:\n",
    "                    peano_addition.predict_step(net, nodes, adj, verbose = True)\n",
    "                except Exception as ex2:\n",
    "                    pass\n",
    "                print('Exception for input tree %s and network output %s\\nexception was %s' % (tu.tree_to_string(nodes, adj, indent = True, with_indices = True), deltaX, str(ex)))\n",
    "        T += len(time_series)-1\n",
    "        j += 1\n",
    "    accs[r] /= T\n",
    "    print('accuracy: %g' % accs[r])"
   ]
  },
  {
   "cell_type": "code",
   "execution_count": null,
   "metadata": {
    "scrolled": true
   },
   "outputs": [],
   "source": [
    "# print results\n",
    "print('Accuracy: %g +- %g' % (np.mean(accs), np.std(accs)))\n",
    "num_epochs = np.array(list(map(len, learning_curves)))\n",
    "print('Epochs: %g +- %g' % (np.mean(num_epochs), np.std(num_epochs)))"
   ]
  },
  {
   "cell_type": "code",
   "execution_count": 4,
   "metadata": {},
   "outputs": [
    {
     "data": {
      "image/png": "[encoded data removed]",
      "text/plain": [
       "<Figure size 432x288 with 1 Axes>"
      ]
     },
     "metadata": {
      "needs_background": "light"
     },
     "output_type": "display_data"
    }
   ],
   "source": [
    "# visualize learning curves\n",
    "import matplotlib.pyplot as plt\n",
    "smoothing_steps = 10\n",
    "for r in range(R):\n",
    "    # compute a moving average before visualization\n",
    "    acum = np.cumsum(learning_curves[r])\n",
    "    plt.semilogy((acum[smoothing_steps:] - acum[:-smoothing_steps])/smoothing_steps)\n",
    "plt.show()"
   ]
  }
 ],
 "metadata": {
  "kernelspec": {
   "display_name": "Python 3",
   "language": "python",
   "name": "python3"
  },
  "language_info": {
   "codemirror_mode": {
    "name": "ipython",
    "version": 3
   },
   "file_extension": ".py",
   "mimetype": "text/x-python",
   "name": "python",
   "nbconvert_exporter": "python",
   "pygments_lexer": "ipython3",
   "version": "3.8.5"
  }
 },
 "nbformat": 4,
 "nbformat_minor": 4
}